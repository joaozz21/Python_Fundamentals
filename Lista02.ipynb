{
  "nbformat": 4,
  "nbformat_minor": 0,
  "metadata": {
    "colab": {
      "provenance": [],
      "authorship_tag": "ABX9TyNJVFIL5itw9Wc0EJfEScoI",
      "include_colab_link": true
    },
    "kernelspec": {
      "name": "python3",
      "display_name": "Python 3"
    },
    "language_info": {
      "name": "python"
    }
  },
  "cells": [
    {
      "cell_type": "markdown",
      "metadata": {
        "id": "view-in-github",
        "colab_type": "text"
      },
      "source": [
        "<a href=\"https://colab.research.google.com/github/joaozz21/Python_Fundamentals/blob/main/Lista02.ipynb\" target=\"_parent\"><img src=\"https://colab.research.google.com/assets/colab-badge.svg\" alt=\"Open In Colab\"/></a>"
      ]
    },
    {
      "cell_type": "markdown",
      "source": [
        "1.  A distancia Chebyshev entre dois pontos p1 e p2 no plano cartesiano e dado por\n",
        "\n",
        "  max{|x2−x1| , |y2−y1|}\n",
        "\n",
        "  Suponha que e dado um ponto p1=(−2,−12).\n",
        "  \n",
        "  Agora faca um programa que:\n",
        "  - Leia a partir do teclado os valores das coordenadas de um outro ponto p2 e passe-os para uma funcao, que chamaremos de calcula_distancia_Chebyshev, a qual devera calcular e retornar (via comando return) a distancia Chebyshev entre p1 e p2, de acordo com a formula descrita acima.\n",
        "  - Imprima o valor da distancia calculada.  Importante: a(s) instrucao(coes) para impressao deve(m) estar fora da funcao calculadistanciaChebyshev.\n",
        "  \n",
        "  ## Entradas:\n",
        "  -18\n",
        "  \n",
        "  2\n",
        "  ## Saidas:\n",
        "  distancia Chebyshev = 16.00"
      ],
      "metadata": {
        "id": "UG19-_PpOSh-"
      }
    },
    {
      "cell_type": "code",
      "execution_count": 5,
      "metadata": {
        "colab": {
          "base_uri": "https://localhost:8080/"
        },
        "id": "fMbXqzlKLUft",
        "outputId": "a94dece0-b1d3-4913-f860-ccab51a03e4c"
      },
      "outputs": [
        {
          "output_type": "stream",
          "name": "stdout",
          "text": [
            "-18\n",
            "2\n",
            "distancia Chebyshev = 16.00\n"
          ]
        }
      ],
      "source": [
        "def calcula_distancia_Chebyshev(p2) ->float:\n",
        "    p1= [-2,12]\n",
        "    return max(abs(p2[0]-p1[0]),abs(p2[1]-p1[1]))\n",
        "\n",
        "x = float(input())\n",
        "y = float(input())\n",
        "p2 = [x, y]\n",
        "print(f\"distancia Chebyshev = {calcula_distancia_Chebyshev(p2):.2f}\")"
      ]
    },
    {
      "cell_type": "markdown",
      "source": [
        "2.  Dados tres numeros h, e e d, considere a equacao\n",
        "\n",
        "  cox=h^3+e^2+d/(h×e×d)\n",
        "  \n",
        "  Faca um programa que leia do teclado tres numeros reais h, e e d,  e imprima o resultado da equacao, conforme descrito acima. Implemente de tal modo que o seu codigo contenha uma funcao correspondente a esta equacao, a qual deve receber como argumentos os valores de h, e e d, e retornar um numero real como resultado do calculo.\n",
        "  ## Entradas:\n",
        "  -8\n",
        "  9\n",
        "  17\n",
        "  ## Saida:\n",
        "  cox = 0.34"
      ],
      "metadata": {
        "id": "Clzl6Guiravz"
      }
    },
    {
      "cell_type": "code",
      "source": [
        "def cox(h:float,e:float,d:float)->float:\n",
        "    return(h**3+e**2+d)/(h*e*d)\n",
        "\n",
        "print(f\"cox = {cox(float(input()),float(input()),float(input())):.2f}\")"
      ],
      "metadata": {
        "colab": {
          "base_uri": "https://localhost:8080/"
        },
        "id": "IDy0z2JQswJ5",
        "outputId": "75ec66f8-fd4e-4839-e14c-482e09f0879e"
      },
      "execution_count": null,
      "outputs": [
        {
          "output_type": "stream",
          "name": "stdout",
          "text": [
            "-8\n",
            "9\n",
            "17\n",
            "cox = 0.34\n"
          ]
        }
      ]
    },
    {
      "cell_type": "markdown",
      "source": [
        "3.  No Brasil a moeda e o Real (RS) e a Casa da Moeda atualmente imprime  cedulas nos valores RS2, RS5, RS10, RS20, RS50, RS100 e RS200. Suponha que em um paıs peculiar, a moeda corrente e a JabuticabaCoins(OZS), e que a Casa da Moeda desse paıs imprime cedulas dessa moeda nos seguinte valores: 1, 11, 22,44, 51.\n",
        "  \n",
        "  Faca um programa que leia um numero inteiro e calcule o menor  numero de cedulas de JabuticabaCoins no qual o valor lido pode ser decomposto. Em outras palavras, dado um valor em JabuticabaCoins (numero inteiro, lido teclado), seu programa deve imprimir – para cada valor de cedula existente – a quantidade minima de cedulas necessarias para formar esse valor lido do teclado. Veja um exemplo de entrada e saıda abaixo.\n",
        "  \n",
        "  Fazer um modulo (funcao) chamado calculaDinheiro que recebe como parametros um valor inteiro qualquer e o valor de cada um dos tipos de cedula (1,  11,  22,  44,  51).  Essa funcao deve retornar – para cada valor de cedula existente – a quantidade mınima de cedulas de JabuticabaCoins necessaria para formar esse valor.\n",
        "  ## Entrada:\n",
        "  719\n",
        "  ## Saıda:\n",
        "  14 JabuticabaCoin(s) de OZS 51\n",
        "  \n",
        "  0  JabuticabaCoin(s) de OZS 44\n",
        "  \n",
        "  0 JabuticabaCoin(s) de OZS 22\n",
        "  \n",
        "  0 JabuticabaCoin(s) de OZS 11\n",
        "  \n",
        "  5 JabuticabaCoin(s) de OZS 1"
      ],
      "metadata": {
        "id": "pePvaGXAyUwU"
      }
    },
    {
      "cell_type": "code",
      "source": [
        "def calculaDinheiro(valor:int,oz51=51,oz44=44,oz22=22,oz11=11,oz1=1):\n",
        "    if valor >= oz51:\n",
        "        quantidade = valor // oz51\n",
        "        print(f\"{quantidade} JabuticabaCoin(s) de OZ$ 51\")\n",
        "        valor = valor % oz51\n",
        "    else: print(\"0 JabuticabaCoin(s) de OZ$ 51\")\n",
        "\n",
        "    if valor >= oz44:\n",
        "        quantidade = valor // oz44\n",
        "        print(f\"{quantidade} JabuticabaCoin(s) de OZ$ 44\")\n",
        "        valor = valor % oz44\n",
        "    else: print(\"0 JabuticabaCoin(s) de OZ$ 44\")\n",
        "\n",
        "\n",
        "    if valor >= oz22:\n",
        "        quantidade = valor // oz22\n",
        "        print(f\"{quantidade} JabuticabaCoin(s) de OZ$ 22\")\n",
        "        valor = valor % oz22\n",
        "    else: print(\"0 JabuticabaCoin(s) de OZ$ 22\")\n",
        "\n",
        "\n",
        "    if valor >= oz11:\n",
        "        quantidade = valor // oz11\n",
        "        print(f\"{quantidade} JabuticabaCoin(s) de OZ$ 11\")\n",
        "        valor = valor % oz11\n",
        "    else: print(\"0 JabuticabaCoin(s) de OZ$ 11\")\n",
        "\n",
        "    if valor >= oz1:\n",
        "        quantidade = valor // oz1\n",
        "        print(f\"{quantidade} JabuticabaCoin(s) de OZ$ 1\")\n",
        "        valor = valor % oz1\n",
        "    else: print(\"0 JabuticabaCoin(s) de OZ$ 1\")\n",
        "\n",
        "calculaDinheiro(int(input()))\n"
      ],
      "metadata": {
        "colab": {
          "base_uri": "https://localhost:8080/"
        },
        "id": "XR0y4K2L0mkp",
        "outputId": "b2682ebd-b611-497f-f5d8-941ac07ac1a7"
      },
      "execution_count": null,
      "outputs": [
        {
          "output_type": "stream",
          "name": "stdout",
          "text": [
            "719\n",
            "14 JabuticabaCoin(s) de OZ$ 51\n",
            "0 JabuticabaCoin(s) de OZ$ 44\n",
            "0 JabuticabaCoin(s) de OZ$ 22\n",
            "0 JabuticabaCoin(s) de OZ$ 11\n",
            "5 JabuticabaCoin(s) de OZ$ 1\n"
          ]
        }
      ]
    },
    {
      "cell_type": "markdown",
      "source": [
        "4.  A media versetztf entre dois valores g e b pode ser calculada como\n",
        "\n",
        "  f=2/(2/4g)+(3/3b)\n",
        "\n",
        "  Faca um programa que leia do teclado dois numeros reais g e b e devolva a media versetzt entre eles.  \n",
        "\n",
        "  Implemente de tal modo que o seu codigo contenha uma funcao para calcular o valor da media versetzt conforme descrito acima.\n",
        "  ## Entradas:\n",
        "  16.7\n",
        "  \n",
        "  -12.3\n",
        "  ## Saıda:\n",
        "  f = -38.94"
      ],
      "metadata": {
        "id": "LZs1mbTdVhyt"
      }
    },
    {
      "cell_type": "code",
      "source": [
        "def versetztf(g:float,b:float):\n",
        "    f=2/(2/(4*g)+3/(3*b))\n",
        "    return f\n",
        "\n",
        "print(f\"f = {versetztf(float(input()),float(input())):.2f}\")\n"
      ],
      "metadata": {
        "colab": {
          "base_uri": "https://localhost:8080/"
        },
        "id": "ZCmYds-aWJc9",
        "outputId": "1a98d02f-3875-40d0-9452-dba4a2e394ce"
      },
      "execution_count": null,
      "outputs": [
        {
          "output_type": "stream",
          "name": "stdout",
          "text": [
            "16.7\n",
            "-12.3\n",
            "f = -38.94\n"
          ]
        }
      ]
    }
  ]
}